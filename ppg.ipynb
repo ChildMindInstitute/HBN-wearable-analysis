{
 "cells": [
  {
   "cell_type": "markdown",
   "metadata": {},
   "source": [
    "# ppg.ipynb\n",
    "Functions to examine rolling correlations between device sensor outputs.\n",
    "\n",
    "Authors:  \n",
    "– Jon Clucas, 2017 jon.clucas@childmind.org  \n",
    "– Arno Klein, 2017  \n",
    "© 2017, Child Mind Institute, Apache v2.0 License\n",
    "\n",
    "setup:"
   ]
  },
  {
   "cell_type": "code",
   "execution_count": null,
   "metadata": {
    "collapsed": false
   },
   "outputs": [],
   "source": [
    "%matplotlib inline\n",
    "from annotate_range import annotation_line\n",
    "from astropy.stats import median_absolute_deviation as mad\n",
    "from chart_data import bland_altman_plot, df_devices, write_csv, xcorr\n",
    "from chart_data_ppg import linechart\n",
    "from config import short_dir, test_urls\n",
    "from datetime import datetime, timedelta\n",
    "from matplotlib.dates import DateFormatter\n",
    "from normalize_acc_data import actigraph_acc, geneactiv_acc\n",
    "from plot_normalized_vector_lengths import demean_and_normalize\n",
    "from utilities.fetch_data import fetch_check_data, fetch_data, fetch_hash\n",
    "import json, matplotlib as mpl, numpy as np, os, pandas as pd, matplotlib.pyplot as plt\n",
    "\"\"\"\n",
    "with open(os.path.join('./line_charts/device_colors.json')) as fp:\n",
    "    color_key = json.load(fp)\n",
    "\"\"\"\n",
    "pd.set_option('mode.use_inf_as_null', True)\n",
    "ppg_hashes = {'E4_ppg': '74a4074802c03fa22fb3ae8a6715263b',\n",
    "              'Wavelet_ppg': '1af7572640aea22a0af354bedbeb7a1e'}\n",
    "if not os.path.exists('./sample_data'):\n",
    "    os.makedirs('./sample_data')"
   ]
  },
  {
   "cell_type": "markdown",
   "metadata": {},
   "source": [
    "### PPG\n",
    "E4 has a 'Timestamp' column and a combined red and green data column.\n",
    "Wavelet has a 'Timestamp' column and four data columns: red, infrared, filtered red, and filtered infrared"
   ]
  },
  {
   "cell_type": "code",
   "execution_count": null,
   "metadata": {
    "collapsed": false
   },
   "outputs": [
    {
     "name": "stdout",
     "output_type": "stream",
     "text": [
      "Retrieve file from URL: https://osf.io/v3ad6/?action=download&version=2\n",
      "Copy file to cache: sample_data/74a4074802c03fa22fb3ae8a6715263b/E4_ppg.csv\n"
     ]
    }
   ],
   "source": [
    "df = df_devices(['E4', 'Wavelet'], 'ppg', datetime(2017, 4, 7, 17), datetime(2017, 4, 7, 20), ppg_hashes)"
   ]
  },
  {
   "cell_type": "code",
   "execution_count": null,
   "metadata": {
    "collapsed": false
   },
   "outputs": [],
   "source": [
    "print(df)"
   ]
  },
  {
   "cell_type": "code",
   "execution_count": null,
   "metadata": {
    "collapsed": false
   },
   "outputs": [],
   "source": [
    "[xcorr(df['nW'].values, df['infrared'].values), xcorr(df['nW'].values, df['red'].values),\n",
    " xcorr(df['infrared'].values, df['red'].values)]"
   ]
  },
  {
   "cell_type": "code",
   "execution_count": null,
   "metadata": {
    "collapsed": false
   },
   "outputs": [],
   "source": [
    "Evalues = df['nW'].values\n",
    "WIvalues = df['infrared'].values\n",
    "WRvalues = df['red'].values\n",
    "\n",
    "shiftWIWR = len(WIvalues) - np.argmax(np.correlate(np.nan_to_num(WIvalues), np.nan_to_num(WRvalues), mode='full'))\n",
    "shiftEWI = len(WIvalues) - np.argmax(np.correlate(np.nan_to_num(WIvalues), np.nan_to_num(Evalues), mode='full'))\n",
    "shiftEWR = len(WRvalues) - np.argmax(np.correlate(np.nan_to_num(WRvalues), np.nan_to_num(Evalues), mode='full'))\n",
    "shiftEW = np.int(np.nanmean([shiftEWI, shiftEWR]))\n",
    "shift_EW = np.abs(shiftEW)\n",
    "Evalues_shifted = Evalues[:Evalues.shape[0]-shift_EW]\n",
    "WIvalues_shifted = WIvalues[shift_EW:WIvalues.shape[0]]\n",
    "WRvalues_shifted = WRvalues[shift_EW:WRvalues.shape[0]]\n",
    "[np.shape(Evalues_shifted), np.shape(WIvalues_shifted), np.shape(WRvalues_shifted)]\n",
    "[xcorr(Evalues_shifted, WIvalues_shifted), xcorr(Evalues_shifted, WRvalues_shifted),\n",
    " xcorr(WIvalues_shifted, WRvalues_shifted)]"
   ]
  },
  {
   "cell_type": "code",
   "execution_count": null,
   "metadata": {
    "collapsed": false
   },
   "outputs": [],
   "source": [
    "linechart(demean_and_normalize(df), line=False)"
   ]
  },
  {
   "cell_type": "code",
   "execution_count": null,
   "metadata": {
    "collapsed": false
   },
   "outputs": [],
   "source": [
    "shifted_t = []\n",
    "i = 0\n",
    "while len(shifted_t) < np.shape(Evalues_shifted)[0]:\n",
    "    shifted_t.append(df['nW'].index[i])\n",
    "    i += 1\n",
    "shifted_df = pd.DataFrame({'nW': Evalues_shifted,\n",
    "            'infrared': WIvalues_shifted,\n",
    "            'red': WRvalues_shifted, 'Timestamp':shifted_t})\n",
    "shifted_df.set_index('Timestamp', inplace=True)\n",
    "linechart(shifted_df, line=False)"
   ]
  },
  {
   "cell_type": "code",
   "execution_count": null,
   "metadata": {
    "collapsed": false
   },
   "outputs": [],
   "source": [
    "linechart(demean_and_normalize(shifted_df), line=False)"
   ]
  },
  {
   "cell_type": "code",
   "execution_count": null,
   "metadata": {
    "collapsed": false
   },
   "outputs": [],
   "source": [
    "df = df_devices(['E4', 'Wavelet'], 'ppg', datetime(2017, 4, 8, 15, 30), datetime(2017, 4, 8, 16), ppg_hashes)\n",
    "[xcorr(df['nW'].values, df['infrared'].values), xcorr(df['nW'].values, df['red'].values),\n",
    " xcorr(df['infrared'].values, df['red'].values)]"
   ]
  },
  {
   "cell_type": "code",
   "execution_count": null,
   "metadata": {
    "collapsed": false
   },
   "outputs": [],
   "source": [
    "Evalues = df['nW'].values\n",
    "WIvalues = df['infrared'].values\n",
    "WRvalues = df['red'].values\n",
    "\n",
    "shiftWIWR = len(WIvalues) - np.argmax(np.correlate(np.nan_to_num(WIvalues), np.nan_to_num(WRvalues), mode='full'))\n",
    "shiftEWI = len(WIvalues) - np.argmax(np.correlate(np.nan_to_num(WIvalues), np.nan_to_num(Evalues), mode='full'))\n",
    "shiftEWR = len(WRvalues) - np.argmax(np.correlate(np.nan_to_num(WRvalues), np.nan_to_num(Evalues), mode='full'))\n",
    "shiftEW = np.int(np.nanmean([shiftEWI, shiftEWR]))\n",
    "shift_EW = np.abs(shiftEW)\n",
    "Evalues_shifted = Evalues[:Evalues.shape[0]-shift_EW]\n",
    "WIvalues_shifted = WIvalues[shift_EW:WIvalues.shape[0]]\n",
    "WRvalues_shifted = WRvalues[shift_EW:WRvalues.shape[0]]\n",
    "[np.shape(Evalues_shifted), np.shape(WIvalues_shifted), np.shape(WRvalues_shifted)]\n",
    "[xcorr(Evalues_shifted, WIvalues_shifted), xcorr(Evalues_shifted, WRvalues_shifted),\n",
    " xcorr(WIvalues_shifted, WRvalues_shifted)]"
   ]
  },
  {
   "cell_type": "code",
   "execution_count": null,
   "metadata": {
    "collapsed": false
   },
   "outputs": [],
   "source": [
    "linechart(demean_and_normalize(df), line=False)"
   ]
  },
  {
   "cell_type": "code",
   "execution_count": null,
   "metadata": {
    "collapsed": false
   },
   "outputs": [],
   "source": [
    "shifted_t = []\n",
    "i = 0\n",
    "while len(shifted_t) < np.shape(Evalues_shifted)[0]:\n",
    "    shifted_t.append(df['nW'].index[i])\n",
    "    i += 1\n",
    "shifted_df = pd.DataFrame({'nW': Evalues_shifted,\n",
    "            'infrared': WIvalues_shifted,\n",
    "            'red': WRvalues_shifted, 'Timestamp':shifted_t})\n",
    "shifted_df.set_index('Timestamp', inplace=True)\n",
    "linechart(shifted_df, line=False)"
   ]
  },
  {
   "cell_type": "code",
   "execution_count": null,
   "metadata": {
    "collapsed": false
   },
   "outputs": [],
   "source": [
    "linechart(demean_and_normalize(shifted_df), line=False)"
   ]
  },
  {
   "cell_type": "code",
   "execution_count": null,
   "metadata": {
    "collapsed": false
   },
   "outputs": [],
   "source": [
    "df = df_devices(['E4'], 'ppg', datetime(2017, 4, 7, 17, 1), datetime(2017, 4, 7, 17, 6), ppg_hashes)\n",
    "linechart(demean_and_normalize(df), line=False)"
   ]
  },
  {
   "cell_type": "code",
   "execution_count": null,
   "metadata": {
    "collapsed": false
   },
   "outputs": [],
   "source": [
    "df = df_devices(['Wavelet'], 'ppg', datetime(2017, 4, 7, 17), datetime(2017, 4, 7, 20), ppg_hashes)\n",
    "linechart(demean_and_normalize(df), line=False)"
   ]
  }
 ],
 "metadata": {
  "kernelspec": {
   "display_name": "Python [default]",
   "language": "python",
   "name": "python3"
  },
  "language_info": {
   "codemirror_mode": {
    "name": "ipython",
    "version": 3
   },
   "file_extension": ".py",
   "mimetype": "text/x-python",
   "name": "python",
   "nbconvert_exporter": "python",
   "pygments_lexer": "ipython3",
   "version": "3.5.2"
  }
 },
 "nbformat": 4,
 "nbformat_minor": 2
}
