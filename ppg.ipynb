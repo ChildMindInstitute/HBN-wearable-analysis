{
 "cells": [
  {
   "cell_type": "markdown",
   "metadata": {},
   "source": [
    "# ppg.ipynb\n",
    "Functions to examine rolling correlations between device sensor outputs.\n",
    "\n",
    "Authors:  \n",
    "– Jon Clucas, 2017 jon.clucas@childmind.org  \n",
    "– Arno Klein, 2017  \n",
    "© 2017, Child Mind Institute, Apache v2.0 License\n",
    "\n",
    "setup:"
   ]
  },
  {
   "cell_type": "code",
   "execution_count": null,
   "metadata": {
    "collapsed": false
   },
   "outputs": [],
   "source": [
    "%matplotlib inline\n",
    "from annotate_range import annotation_line\n",
    "from astropy.stats import median_absolute_deviation as mad\n",
    "from chart_data import bland_altman_plot, df_devices, linechart, write_csv\n",
    "from config import short_dir, test_urls\n",
    "from datetime import datetime, timedelta\n",
    "from matplotlib.dates import DateFormatter\n",
    "from normalize_acc_data import actigraph_acc, geneactiv_acc\n",
    "from plot_normalized_vector_lengths import baseshift_and_renormalize\n",
    "from utilities.fetch_data import fetch_check_data, fetch_data, fetch_hash\n",
    "import json, matplotlib as mpl, numpy as np, os, pandas as pd, matplotlib.pyplot as plt\n",
    "\"\"\"\n",
    "with open(os.path.join('./line_charts/device_colors.json')) as fp:\n",
    "    color_key = json.load(fp)\n",
    "\"\"\"\n",
    "pd.set_option('mode.use_inf_as_null', True)\n",
    "ppg_hashes = {'Wavelet_ppg': '1af7572640aea22a0af354bedbeb7a1e',\n",
    "              'e4_ppg': '74a4074802c03fa22fb3ae8a6715263b'}\n",
    "if not os.path.exists('./sample_data'):\n",
    "    os.makedirs('./sample_data')"
   ]
  },
  {
   "cell_type": "markdown",
   "metadata": {},
   "source": [
    "### PPG\n",
    "E4 has a 'Timestamp' column and a combined red and green data column.\n",
    "Wavelet has a 'Timestamp' column and four data columns: red, infrared, filtered red, and filtered infrared"
   ]
  },
  {
   "cell_type": "code",
   "execution_count": 3,
   "metadata": {
    "collapsed": false
   },
   "outputs": [],
   "source": [
    "for ppg in ['e4_ppg', 'Wavelet_ppg']:\n",
    "    try:\n",
    "        fetch_check_data(ppg, test_urls()[ppg], ppg_hashes, cache_directory='./sample_data', append='.csv',\n",
    "                         verbose=True)\n",
    "    except:\n",
    "        hashes[ppg] = fetch_hash(fetch_data(test_urls()[ppg], os.path.join('./sample_data', ppg), '.csv'))\n",
    "ppg_dfs = {}\n",
    "for ppg in ['e4_ppg', 'Wavelet_ppg']:\n",
    "    ppg_df[ppg] = pd.read_csv(fetch_check_data(ppg, test_urls()[ppg], ppg_hashes, cache_directory='./sample_data',\n",
    "                  append='.csv'), parse_dates=['Timestamp'], infer_datetime_format=True)\n",
    "    print(str(list(ppg_df[ppg].columns)))"
   ]
  },
  {
   "cell_type": "code",
   "execution_count": 4,
   "metadata": {
    "collapsed": false
   },
   "outputs": [
    {
     "ename": "NameError",
     "evalue": "name 'ppg_df' is not defined",
     "output_type": "error",
     "traceback": [
      "\u001b[0;31m---------------------------------------------------------------------------\u001b[0m",
      "\u001b[0;31mNameError\u001b[0m                                 Traceback (most recent call last)",
      "\u001b[0;32m<ipython-input-4-5eb67884c0fb>\u001b[0m in \u001b[0;36m<module>\u001b[0;34m()\u001b[0m\n\u001b[1;32m      2\u001b[0m \u001b[0;32mfor\u001b[0m \u001b[0mppg\u001b[0m \u001b[0;32min\u001b[0m \u001b[0;34m[\u001b[0m\u001b[0;34m'e4_ppg'\u001b[0m\u001b[0;34m,\u001b[0m \u001b[0;34m'Wavelet_ppg'\u001b[0m\u001b[0;34m]\u001b[0m\u001b[0;34m:\u001b[0m\u001b[0;34m\u001b[0m\u001b[0m\n\u001b[1;32m      3\u001b[0m     ppg_df[ppg] = pd.read_csv(fetch_check_data(ppg, test_urls()[ppg], ppg_hashes, cache_directory='./sample_data',\n\u001b[0;32m----> 4\u001b[0;31m                   append='.csv'), parse_dates=['Timestamp'], infer_datetime_format=True)\n\u001b[0m\u001b[1;32m      5\u001b[0m     \u001b[0mprint\u001b[0m\u001b[0;34m(\u001b[0m\u001b[0mstr\u001b[0m\u001b[0;34m(\u001b[0m\u001b[0mlist\u001b[0m\u001b[0;34m(\u001b[0m\u001b[0mppg_df\u001b[0m\u001b[0;34m[\u001b[0m\u001b[0mppg\u001b[0m\u001b[0;34m]\u001b[0m\u001b[0;34m.\u001b[0m\u001b[0mcolumns\u001b[0m\u001b[0;34m)\u001b[0m\u001b[0;34m)\u001b[0m\u001b[0;34m)\u001b[0m\u001b[0;34m\u001b[0m\u001b[0m\n",
      "\u001b[0;31mNameError\u001b[0m: name 'ppg_df' is not defined"
     ]
    }
   ],
   "source": []
  }
 ],
 "metadata": {
  "kernelspec": {
   "display_name": "Python [default]",
   "language": "python",
   "name": "python3"
  },
  "language_info": {
   "codemirror_mode": {
    "name": "ipython",
    "version": 3
   },
   "file_extension": ".py",
   "mimetype": "text/x-python",
   "name": "python",
   "nbconvert_exporter": "python",
   "pygments_lexer": "ipython3",
   "version": "3.5.2"
  }
 },
 "nbformat": 4,
 "nbformat_minor": 2
}
