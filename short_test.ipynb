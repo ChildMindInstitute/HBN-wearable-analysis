{
 "cells": [
  {
   "cell_type": "markdown",
   "metadata": {},
   "source": [
    "# short_test.ipynb\n",
    "Functions to examine rolling correlations between device sensor outputs.\n",
    "\n",
    "Authors:  \n",
    "– Jon Clucas, 2017 jon.clucas@childmind.org  \n",
    "– Arno Klein, 2017  \n",
    "© 2017, Child Mind Institute, Apache v2.0 License\n",
    "\n",
    "setup:"
   ]
  },
  {
   "cell_type": "code",
   "execution_count": 1,
   "metadata": {
    "collapsed": false
   },
   "outputs": [],
   "source": [
    "%matplotlib inline\n",
    "from annotate_range import annotation_line\n",
    "from chart_data import bland_altman_plot, df_devices, linechart, rolling_window, xcorr\n",
    "from config import short_dir, test_urls\n",
    "from datetime import datetime, timedelta\n",
    "from normalize_acc_data import actigraph_acc, geneactiv_acc\n",
    "from plot_normalized_vector_lengths import baseshift_and_renormalize\n",
    "from utilities.fetch_data import fetch_check_data, fetch_data, fetch_hash\n",
    "import json, matplotlib as mpl, numpy as np, os, pandas as pd, matplotlib.pyplot as plt\n",
    "\"\"\"\n",
    "with open(os.path.join('./line_charts/device_colors.json')) as fp:\n",
    "    color_key = json.load(fp)\n",
    "\"\"\"\n",
    "pd.set_option('mode.use_inf_as_null', True)\n",
    "acc_hashes = {'G1_acc_quicktest': '81649fc8a11bf2e87519fa5bb6c0b1f8',\n",
    "              'A_acc_quicktest': '083a9ec701d94474558618a3b303b0cc',\n",
    "              'G2_acc_quicktest': 'a23bb0267c79451026b221434ef025ba'}\n",
    "if not os.path.exists('./sample_data'):\n",
    "    os.makedirs('./sample_data')"
   ]
  },
  {
   "cell_type": "markdown",
   "metadata": {},
   "source": [
    "load normalized data:"
   ]
  },
  {
   "cell_type": "code",
   "execution_count": 2,
   "metadata": {
    "collapsed": false
   },
   "outputs": [
    {
     "name": "stdout",
     "output_type": "stream",
     "text": [
      "A_acc_quicktest\n",
      "Retrieve file from URL: https://osf.io/h3aem/?action=download&version=1\n",
      "Copy file to cache: sample_data/083a9ec701d94474558618a3b303b0cc/A_acc_quicktest.csv\n",
      "0\n",
      "('A', 'ActiGraph')\n",
      "1\n",
      "G1_acc_quicktest\n",
      "Retrieve file from URL: https://osf.io/j5rcu/?action=download&version=1\n",
      "Copy file to cache: sample_data/81649fc8a11bf2e87519fa5bb6c0b1f8/G1_acc_quicktest.csv\n",
      "1\n",
      "('G1', 'GENEActiv')\n",
      "2\n",
      "G2_acc_quicktest\n",
      "Retrieve file from URL: https://osf.io/yxgzt/?action=download&version=1\n",
      "Copy file to cache: sample_data/a23bb0267c79451026b221434ef025ba/G2_acc_quicktest.csv\n",
      "2\n",
      "('G2', 'GENEActiv')\n",
      "3\n"
     ]
    },
    {
     "ename": "UnboundLocalError",
     "evalue": "local variable 'df' referenced before assignment",
     "output_type": "error",
     "traceback": [
      "\u001b[0;31m---------------------------------------------------------------------------\u001b[0m",
      "\u001b[0;31mUnboundLocalError\u001b[0m                         Traceback (most recent call last)",
      "\u001b[0;32m<ipython-input-2-f3f53a171f72>\u001b[0m in \u001b[0;36m<module>\u001b[0;34m()\u001b[0m\n\u001b[1;32m      1\u001b[0m df = df_devices([('A', 'ActiGraph'), ('G1', 'GENEActiv'), ('G2', 'GENEActiv')], 'accelerometer quicktest',\n\u001b[0;32m----> 2\u001b[0;31m      datetime(2017, 4, 28, 15, 30), datetime(2017, 4, 28, 15, 48), acc_hashes)\n\u001b[0m\u001b[1;32m      3\u001b[0m \u001b[0mdf\u001b[0m\u001b[0;34m.\u001b[0m\u001b[0mrename\u001b[0m\u001b[0;34m(\u001b[0m\u001b[0mcolumns\u001b[0m\u001b[0;34m=\u001b[0m\u001b[0;34m{\u001b[0m\u001b[0;34m'normalized_vector_length'\u001b[0m\u001b[0;34m:\u001b[0m \u001b[0;34m'normalized_vector_length_GENEActiv(2)'\u001b[0m\u001b[0;34m}\u001b[0m\u001b[0;34m,\u001b[0m \u001b[0minplace\u001b[0m\u001b[0;34m=\u001b[0m\u001b[0;32mTrue\u001b[0m\u001b[0;34m)\u001b[0m\u001b[0;34m\u001b[0m\u001b[0m\n",
      "\u001b[0;32m/Volumes/Jon.Clucas/HBN-wearable-analysis/chart_data.py\u001b[0m in \u001b[0;36mdf_devices\u001b[0;34m(devices, sensor, start, stop, hashes)\u001b[0m\n\u001b[1;32m    216\u001b[0m             \u001b[0;32mif\u001b[0m \u001b[0mlen\u001b[0m\u001b[0;34m(\u001b[0m\u001b[0ms\u001b[0m\u001b[0;34m)\u001b[0m \u001b[0;34m>\u001b[0m \u001b[0;36m1\u001b[0m\u001b[0;34m:\u001b[0m\u001b[0;34m\u001b[0m\u001b[0m\n\u001b[1;32m    217\u001b[0m                 \u001b[0;32mfor\u001b[0m \u001b[0mi\u001b[0m \u001b[0;32min\u001b[0m \u001b[0mrange\u001b[0m\u001b[0;34m(\u001b[0m\u001b[0;36m2\u001b[0m\u001b[0;34m,\u001b[0m \u001b[0mlen\u001b[0m\u001b[0;34m(\u001b[0m\u001b[0ms\u001b[0m\u001b[0;34m)\u001b[0m\u001b[0;34m,\u001b[0m \u001b[0;36m1\u001b[0m\u001b[0;34m)\u001b[0m\u001b[0;34m:\u001b[0m\u001b[0;34m\u001b[0m\u001b[0m\n\u001b[0;32m--> 218\u001b[0;31m                     \u001b[0mdf\u001b[0m \u001b[0;34m=\u001b[0m \u001b[0mdf\u001b[0m\u001b[0;34m.\u001b[0m\u001b[0mmerge\u001b[0m\u001b[0;34m(\u001b[0m\u001b[0ms\u001b[0m\u001b[0;34m[\u001b[0m\u001b[0mi\u001b[0m\u001b[0;34m]\u001b[0m\u001b[0;34m,\u001b[0m \u001b[0mhow\u001b[0m\u001b[0;34m=\u001b[0m\u001b[0;34m'outer'\u001b[0m\u001b[0;34m,\u001b[0m \u001b[0mleft_index\u001b[0m\u001b[0;34m=\u001b[0m\u001b[0;32mTrue\u001b[0m\u001b[0;34m,\u001b[0m \u001b[0mright_index\u001b[0m\u001b[0;34m=\u001b[0m\u001b[0;32mTrue\u001b[0m\u001b[0;34m,\u001b[0m \u001b[0msuffixes\u001b[0m\u001b[0;34m=\u001b[0m\u001b[0;34m(\u001b[0m\u001b[0;34m''\u001b[0m\u001b[0;34m,\u001b[0m \u001b[0;34m''\u001b[0m\u001b[0;34m.\u001b[0m\u001b[0mjoin\u001b[0m\u001b[0;34m(\u001b[0m\u001b[0;34m[\u001b[0m\u001b[0;34m'_'\u001b[0m\u001b[0;34m,\u001b[0m \u001b[0md\u001b[0m\u001b[0;34m[\u001b[0m\u001b[0mi\u001b[0m\u001b[0;34m]\u001b[0m\u001b[0;34m]\u001b[0m\u001b[0;34m)\u001b[0m\u001b[0;34m)\u001b[0m\u001b[0;34m)\u001b[0m\u001b[0;34m\u001b[0m\u001b[0m\n\u001b[0m\u001b[1;32m    219\u001b[0m     \u001b[0;32mreturn\u001b[0m\u001b[0;34m(\u001b[0m\u001b[0mdf\u001b[0m\u001b[0;34m)\u001b[0m\u001b[0;34m\u001b[0m\u001b[0m\n\u001b[1;32m    220\u001b[0m \u001b[0;34m\u001b[0m\u001b[0m\n",
      "\u001b[0;31mUnboundLocalError\u001b[0m: local variable 'df' referenced before assignment"
     ]
    }
   ],
   "source": [
    "df = df_devices([('A', 'ActiGraph'), ('G1', 'GENEActiv'), ('G2', 'GENEActiv')], 'accelerometer quicktest',\n",
    "     datetime(2017, 4, 28, 15, 30), datetime(2017, 4, 28, 15, 48), acc_hashes)\n",
    "df.rename(columns={'normalized_vector_length': 'normalized_vector_length_GENEActiv(2)'}, inplace=True)"
   ]
  },
  {
   "cell_type": "code",
   "execution_count": null,
   "metadata": {
    "collapsed": false
   },
   "outputs": [],
   "source": [
    "Avalues = df['normalized_vector_length_ActiGraph'].values\n",
    "G1values = df['normalized_vector_length_GENEActiv'].values\n",
    "G2values = df['normalized_vector_length_GENEActiv(2)'].values\n",
    "\n",
    "shiftG1G2 = len(G1values) - np.argmax(np.correlate(G1values, G2values, mode='full'))\n",
    "shiftG1A = len(G1values) - np.argmax(np.correlate(G1values, Avalues, mode='full'))\n",
    "shiftG2A = len(G2values) - np.argmax(np.correlate(G2values, Avalues, mode='full'))\n",
    "shiftGA = np.int(np.mean([shiftG1A, shiftG2A]))\n",
    "[shiftG1G2, shiftG1A, shiftG2A, shiftGA]"
   ]
  },
  {
   "cell_type": "code",
   "execution_count": null,
   "metadata": {
    "collapsed": false
   },
   "outputs": [],
   "source": [
    "shift_GA = np.abs(shiftGA)\n",
    "Avalues_shifted = Avalues[:G1values.shape[0]-shift_GA]\n",
    "G1values_shifted = G1values[shift_GA:G1values.shape[0]]\n",
    "G2values_shifted = G2values[shift_GA:G2values.shape[0]]\n",
    "[np.shape(G1values_shifted), np.shape(G2values_shifted), np.shape(Avalues_shifted)]"
   ]
  },
  {
   "cell_type": "code",
   "execution_count": null,
   "metadata": {
    "collapsed": false
   },
   "outputs": [],
   "source": [
    "[xcorr(G1values_shifted, G2values_shifted), xcorr(Avalues_shifted, G1values_shifted),\n",
    " xcorr(Avalues_shifted, G2values_shifted)]"
   ]
  },
  {
   "cell_type": "code",
   "execution_count": null,
   "metadata": {
    "collapsed": false
   },
   "outputs": [],
   "source": [
    "shifted_t = [datetime(2017, 4, 28, 15, 30)]\n",
    "while len(shifted_t) < np.shape(Avalues_shifted)[0]:\n",
    "    shifted_t.append(shifted_t[-1] + timedelta(seconds=0.0166))\n",
    "shifted_df = pd.DataFrame({'normalized_vector_length_ActiGraph': Avalues_shifted,\n",
    "            'normalized_vector_length_GENEActiv': G1values_shifted,\n",
    "            'normalized_vector_length_GENEActiv(2)': G2values_shifted, 'Timestamp':shifted_t})\n",
    "shifted_df.set_index('Timestamp', inplace=True)"
   ]
  },
  {
   "cell_type": "markdown",
   "metadata": {},
   "source": [
    "cut middle portion out when devices were being transferred:"
   ]
  },
  {
   "cell_type": "code",
   "execution_count": null,
   "metadata": {
    "collapsed": false
   },
   "outputs": [],
   "source": [
    "start1 = datetime(2017,4,28,15,30)\n",
    "stop1 = datetime(2017,4,28,15,37)\n",
    "start2 = datetime(2017,4,28,15,40)\n",
    "stop2 = datetime(2017,4,28,15,48)\n",
    "cropped_df = shifted_df.loc[(shifted_df.index >= start1) & (shifted_df.index <= stop1) |\n",
    "                            (shifted_df.index >= start2) & (shifted_df.index <= stop2)].copy()"
   ]
  },
  {
   "cell_type": "code",
   "execution_count": null,
   "metadata": {
    "collapsed": false
   },
   "outputs": [],
   "source": [
    "linechart(cropped_df, 'ActiGraph vs 2×GENEActiv, shifted, cropped section', line=True, full=True)"
   ]
  },
  {
   "cell_type": "code",
   "execution_count": null,
   "metadata": {
    "collapsed": true
   },
   "outputs": [],
   "source": [
    "Avalues_cropped = cropped_df['normalized_vector_length_ActiGraph'].values\n",
    "G1values_cropped = cropped_df['normalized_vector_length_GENEActiv'].values\n",
    "G2values_cropped = cropped_df['normalized_vector_length_GENEActiv(2)'].values"
   ]
  },
  {
   "cell_type": "markdown",
   "metadata": {},
   "source": [
    "compute normalized cross-correlations:"
   ]
  },
  {
   "cell_type": "code",
   "execution_count": null,
   "metadata": {
    "collapsed": false
   },
   "outputs": [],
   "source": [
    "[xcorr(G1values_cropped, G2values_cropped), xcorr(Avalues_cropped, G1values_cropped),\n",
    " xcorr(Avalues_cropped, G2values_cropped)]"
   ]
  },
  {
   "cell_type": "markdown",
   "metadata": {},
   "source": [
    "plot x-second windows:"
   ]
  },
  {
   "cell_type": "code",
   "execution_count": null,
   "metadata": {
    "collapsed": false
   },
   "outputs": [],
   "source": [
    "start = datetime(2017,4,28,15,30) #shifted_t[0]\n",
    "stop = datetime(2017,4,28,15,48) #shifted_t[-1]\n",
    "plot_data = True\n",
    "while start < stop and plot_data:\n",
    "    new_start = start + timedelta(seconds=10)\n",
    "    plot_df = cropped_df.loc[(cropped_df.index >= start) & (cropped_df.index <= new_start)].copy()\n",
    "    label = '–'.join([start.strftime('%H:%M:%S'), new_start.strftime('%H:%M:%S')])\n",
    "    plot_data = linechart(plot_df, label, line=True, full=False)\n",
    "    #print(xcorr(plot_df['normalized_vector_length_GENEActiv'].values,\n",
    "    #            plot_df['normalized_vector_length_GENEActiv(2)'].values))\n",
    "    #print(xcorr(plot_df['normalized_vector_length_ActiGraph'].values,\n",
    "    #            plot_df['normalized_vector_length_GENEActiv'].values))\n",
    "    #print(xcorr(plot_df['normalized_vector_length_ActiGraph'].values,\n",
    "    #            plot_df['normalized_vector_length_GENEActiv(2)'].values))\n",
    "    start = new_start"
   ]
  },
  {
   "cell_type": "code",
   "execution_count": null,
   "metadata": {
    "collapsed": false
   },
   "outputs": [],
   "source": [
    "np.shape(G1values)"
   ]
  },
  {
   "cell_type": "code",
   "execution_count": null,
   "metadata": {
    "collapsed": false
   },
   "outputs": [],
   "source": [
    "start = datetime(2017,4,28,15,30) #shifted_t[0]\n",
    "stop = datetime(2017,4,28,15,48) #shifted_t[-1]\n",
    "plot_data = True\n",
    "while start < stop and plot_data:\n",
    "    new_start = start + timedelta(seconds=10)\n",
    "    plot_df = cropped_df.loc[(cropped_df.index >= start) & (cropped_df.index <= new_start)].copy()\n",
    "    label = '–'.join([start.strftime('%H:%M:%S'), new_start.strftime('%H:%M:%S')])\n",
    "    plot_data = linechart(plot_df, label, line=True, full=True)\n",
    "    #print(xcorr(plot_df['normalized_vector_length_GENEActiv'].values,\n",
    "    #            plot_df['normalized_vector_length_GENEActiv(2)'].values))\n",
    "    #print(xcorr(plot_df['normalized_vector_length_ActiGraph'].values,\n",
    "    #            plot_df['normalized_vector_length_GENEActiv'].values))\n",
    "    #print(xcorr(plot_df['normalized_vector_length_ActiGraph'].values,\n",
    "    #            plot_df['normalized_vector_length_GENEActiv(2)'].values))\n",
    "    start = new_start"
   ]
  }
 ],
 "metadata": {
  "anaconda-cloud": {},
  "kernelspec": {
   "display_name": "Python [default]",
   "language": "python",
   "name": "python3"
  },
  "language_info": {
   "codemirror_mode": {
    "name": "ipython",
    "version": 3
   },
   "file_extension": ".py",
   "mimetype": "text/x-python",
   "name": "python",
   "nbconvert_exporter": "python",
   "pygments_lexer": "ipython3",
   "version": "3.5.2"
  }
 },
 "nbformat": 4,
 "nbformat_minor": 1
}
