{
 "cells": [
  {
   "cell_type": "markdown",
   "metadata": {},
   "source": [
    "# HBN Wearable Analysis\n",
    "\n",
    "Authors:\n",
    "    - Jon Clucas, 2017  <jon.clucas@childmind.org>\n",
    "Copyright ©2017, Apache v2.0 License\n",
    "\n",
    "* [draft tech report](https://docs.google.com/document/d/1BNS3eT7mnrElDcdh-rsFrz-gYIhdAnsSwGCeYuRoFf0)"
   ]
  },
  {
   "cell_type": "markdown",
   "metadata": {},
   "source": [
    "#### imports"
   ]
  },
  {
   "cell_type": "code",
   "execution_count": 21,
   "metadata": {},
   "outputs": [],
   "source": [
    "from config import config\n",
    "from utilities import fetch_data\n",
    "import plotly.graph_objs as go\n",
    "from utilities.normalize_acc_data import normalize as norm\n",
    "import numpy as np\n",
    "import pandas as pd\n",
    "import plotly.plotly as py\n",
    "from datetime import datetime, timedelta"
   ]
  },
  {
   "cell_type": "markdown",
   "metadata": {},
   "source": [
    "## accelerometry "
   ]
  },
  {
   "cell_type": "code",
   "execution_count": 2,
   "metadata": {},
   "outputs": [],
   "source": [
    "acc_GA_black_path = fetch_data.fetch_data(config.rawurls['accelerometer']['GENEActiv Original (black)'])\n",
    "acc_GA_pink_path = fetch_data.fetch_data(config.rawurls['accelerometer']['GENEActiv Original (pink)'])"
   ]
  },
  {
   "cell_type": "code",
   "execution_count": 3,
   "metadata": {},
   "outputs": [],
   "source": [
    "acc_GA_black = norm(pd.read_csv(acc_GA_black_path))\n",
    "acc_GA_pink = norm(pd.read_csv(acc_GA_pink_path))"
   ]
  },
  {
   "cell_type": "code",
   "execution_count": 7,
   "metadata": {
    "collapsed": true
   },
   "outputs": [],
   "source": [
    "acc_AG_path = fetch_data.fetch_data(config.rawurls['accelerometer']['ActiGraph wGT3X-BT'])"
   ]
  },
  {
   "cell_type": "code",
   "execution_count": 8,
   "metadata": {
    "collapsed": true
   },
   "outputs": [],
   "source": [
    "acc_AG = norm(pd.read_csv(acc_AG_path))"
   ]
  },
  {
   "cell_type": "code",
   "execution_count": 9,
   "metadata": {
    "collapsed": true
   },
   "outputs": [],
   "source": [
    "acc_E4_path = fetch_data.fetch_data(config.rawurls['accelerometer']['Empatica E4'])"
   ]
  },
  {
   "cell_type": "code",
   "execution_count": 10,
   "metadata": {
    "collapsed": true
   },
   "outputs": [],
   "source": [
    "acc_E4 = norm(pd.read_csv(acc_E4_path))"
   ]
  },
  {
   "cell_type": "code",
   "execution_count": 11,
   "metadata": {
    "collapsed": true
   },
   "outputs": [],
   "source": [
    "acc_WW_path = fetch_data.fetch_data(config.rawurls['accelerometer']['Wavelet Wristband'])"
   ]
  },
  {
   "cell_type": "code",
   "execution_count": null,
   "metadata": {
    "collapsed": true
   },
   "outputs": [],
   "source": [
    "acc_WW = norm(pd.read_csv(acc_WW_path)).dropna()"
   ]
  },
  {
   "cell_type": "code",
   "execution_count": null,
   "metadata": {},
   "outputs": [],
   "source": [
    "print(\"\\n\".join([str(GA_start), str(AG_start), str(E4_start), str(WW_start), \"\\n\", str(GA_stop), str(AG_stop), str(E4_stop), str(WW_stop)]))"
   ]
  },
  {
   "cell_type": "code",
   "execution_count": null,
   "metadata": {},
   "outputs": [],
   "source": [
    "for df in [acc_GA_black, acc_GA_pink, acc_AG, acc_E4, acc_WW]:\n",
    "    print(df.head(50))"
   ]
  },
  {
   "cell_type": "code",
   "execution_count": null,
   "metadata": {},
   "outputs": [],
   "source": [
    "GA_start = min([acc_GA_black['Timestamp'].min(), acc_GA_pink['Timestamp'].min()])\n",
    "GA_stop = max([acc_GA_black['Timestamp'].max(), acc_GA_pink['Timestamp'].max()])\n",
    "AG_start = acc_AG['Timestamp'].min()\n",
    "AG_stop = acc_AG['Timestamp'].max()\n",
    "E4_start = acc_E4['Timestamp'].min()\n",
    "E4_stop = acc_E4['Timestamp'].max()\n",
    "WW_start = acc_WW['Timestamp'].min()\n",
    "WW_stop = acc_WW['Timestamp'].max()\n",
    "start = min([GA_start, AG_start, E4_start, WW_start])\n",
    "stop = max([GA_stop, AG_stop, E4_stop, WW_stop])\n",
    "print(start)\n",
    "print(stop)"
   ]
  },
  {
   "cell_type": "code",
   "execution_count": null,
   "metadata": {},
   "outputs": [],
   "source": [
    "trace_acc_GA_black = go.Scattergl(x=acc_GA_black['Timestamp'],\n",
    "                                     y=acc_GA_black['normalized_vector_length'], name=\"GENEActiv (black)\")\n",
    "trace_acc_GA_pink = go.Scattergl(x=acc_GA_pink['Timestamp'],\n",
    "                                     y=acc_GA_pink['normalized_vector_length'], name=\"GENEActiv (pink)\")\n",
    "trace_acc_AG = go.Scattergl(x=acc_AG['Timestamp'],\n",
    "                                     y=acc_AG['normalized_vector_length'], name=\"ActiGraph\")\n",
    "trace_acc_E4 = go.Scattergl(x=acc_E4['Timestamp'],\n",
    "                                     y=acc_E4['normalized_vector_length'], name=\"E4\")\n",
    "trace_acc_WW = go.Scattergl(x=acc_WW['Timestamp'],\n",
    "                                     y=acc_WW['normalized_vector_length'], name=\"Wavelet\")\n",
    "py.offline.plot([trace_acc_GA_black, trace_acc_GA_pink, trace_acc_AG, trace_acc_E4, trace_acc_WW])"
   ]
  },
  {
   "cell_type": "code",
   "execution_count": null,
   "metadata": {},
   "outputs": [],
   "source": [
    "while start < stop:\n",
    "    middle = start + timedelta(hours=1)\n",
    "    trace_acc_GA_black = go.Scattergl(x=acc_GA_black[(acc_GA_black['Timestamp'] >= start)\n",
    "                                     & (acc_GA_black['Timestamp'] <= middle)]['Timestamp'],\n",
    "                                     y=acc_GA_black[(acc_GA_black['Timestamp'] >= start)\n",
    "                                     & (acc_GA_black['Timestamp'] <= middle)]['normalized_vector_length'],\n",
    "                                     name=\"GENEActiv (black)\")\n",
    "    trace_acc_GA_pink = go.Scattergl(x=acc_GA_pink[(acc_GA_pink['Timestamp'] >= start)\n",
    "                                     & (acc_GA_pink['Timestamp'] <= middle)]['Timestamp'],\n",
    "                                     y=acc_GA_pink[(acc_GA_pink['Timestamp'] >= start)\n",
    "                                     & (acc_GA_pink['Timestamp'] <= middle)]['normalized_vector_length'],\n",
    "                                     name=\"GENEActiv (pink)\")\n",
    "    trace_acc_AG = go.Scattergl(x=acc_AG[(acc_AG['Timestamp'] >= start)\n",
    "                                     & (acc_AG['Timestamp'] <= middle)]['Timestamp'],\n",
    "                                     y=acc_AG[(acc_AG['Timestamp'] >= start)\n",
    "                                     & (acc_AG['Timestamp'] <= middle)]['normalized_vector_length'],\n",
    "                                     name=\"ActiGraph\")\n",
    "    trace_acc_E4 = go.Scattergl(x=acc_E4[(acc_E4['Timestamp'] >= start)\n",
    "                                     & (acc_E4['Timestamp'] <= middle)]['Timestamp'],\n",
    "                                     y=acc_E4[(acc_E4['Timestamp'] >= start)\n",
    "                                     & (acc_E4['Timestamp'] <= middle)]['normalized_vector_length'],\n",
    "                                     name=\"E4\")\n",
    "    trace_acc_WW = go.Scattergl(x=acc_WW[(acc_WW['Timestamp'] >= start)\n",
    "                                     & (acc_WW['Timestamp'] <= middle)]['Timestamp'],\n",
    "                                     y=acc_WW[(acc_WW['Timestamp'] >= start)\n",
    "                                     & (acc_WW['Timestamp'] <= middle)]['normalized_vector_length'],\n",
    "                                     name=\"Wavelet\")\n",
    "    py.offline.plot([trace_acc_GA_black, trace_acc_GA_pink, trace_acc_AG, trace_acc_E4, trace_acc_WW])\n",
    "    start = middle"
   ]
  },
  {
   "cell_type": "markdown",
   "metadata": {},
   "source": [
    "## photoplethysmography"
   ]
  },
  {
   "cell_type": "code",
   "execution_count": null,
   "metadata": {
    "collapsed": true
   },
   "outputs": [],
   "source": [
    "ppg_E4_path = fetch_data.fetch_data(config.rawurls['photoplethysmograph']['Empatica E4'])"
   ]
  },
  {
   "cell_type": "code",
   "execution_count": null,
   "metadata": {
    "collapsed": true
   },
   "outputs": [],
   "source": [
    "ppg_WW_path = fetch_data.fetch_data(config.rawurls['photoplethysmograph']['Wavelet Wristband'])"
   ]
  },
  {
   "cell_type": "markdown",
   "metadata": {},
   "source": [
    "## electrodermal activity"
   ]
  },
  {
   "cell_type": "code",
   "execution_count": null,
   "metadata": {
    "collapsed": true
   },
   "outputs": [],
   "source": [
    "eda_E4_path = fetch_data.fetch_data(config.rawurls['electrodermal activity']['Empatica E4'])"
   ]
  },
  {
   "cell_type": "markdown",
   "metadata": {},
   "source": [
    "## electrocardiography"
   ]
  },
  {
   "cell_type": "code",
   "execution_count": null,
   "metadata": {
    "collapsed": true
   },
   "outputs": [],
   "source": [
    "ecg_AG_path = fetch_data.fetch_data(config.rawurls['electrocardiography']['ActiGraph wGT3X-BT'])"
   ]
  },
  {
   "cell_type": "code",
   "execution_count": null,
   "metadata": {
    "collapsed": true
   },
   "outputs": [],
   "source": [
    "ecg_E4_path = fetch_data.fetch_data(config.rawurls['electrocardiography']['Empatica E4'])"
   ]
  },
  {
   "cell_type": "markdown",
   "metadata": {},
   "source": [
    "## light"
   ]
  },
  {
   "cell_type": "code",
   "execution_count": null,
   "metadata": {
    "collapsed": true
   },
   "outputs": [],
   "source": [
    "lgt_AG_path = fetch_data.fetch_data(config.rawurls['light']['ActiGraph wGT3X-BT'])"
   ]
  },
  {
   "cell_type": "code",
   "execution_count": null,
   "metadata": {
    "collapsed": true
   },
   "outputs": [],
   "source": [
    "lgt_GA_black_path = fetch_data.fetch_data(config.rawurls['light']['GENEActiv Original (black)'])\n",
    "lgt_GA_pink_path = fetch_data.fetch_data(config.rawurls['light']['GENEActiv Original (pink)'])"
   ]
  },
  {
   "cell_type": "markdown",
   "metadata": {},
   "source": [
    "## temperature"
   ]
  },
  {
   "cell_type": "code",
   "execution_count": null,
   "metadata": {
    "collapsed": true
   },
   "outputs": [],
   "source": [
    "tmp_E4_path = fetch_data.fetch_data(config.rawurls['temperature']['Empatica E4'])"
   ]
  },
  {
   "cell_type": "code",
   "execution_count": null,
   "metadata": {
    "collapsed": true
   },
   "outputs": [],
   "source": [
    "tmp_GA_black_path = fetch_data.fetch_data(config.rawurls['temperature']['GENEActiv Original (black)'])\n",
    "tmp_GA_pink_path = fetch_data.fetch_data(config.rawurls['temperature']['GENEActiv Original (pink)'])"
   ]
  }
 ],
 "metadata": {
  "kernelspec": {
   "display_name": "Python [conda root]",
   "language": "python",
   "name": "conda-root-py"
  },
  "language_info": {
   "codemirror_mode": {
    "name": "ipython",
    "version": 3
   },
   "file_extension": ".py",
   "mimetype": "text/x-python",
   "name": "python",
   "nbconvert_exporter": "python",
   "pygments_lexer": "ipython3",
   "version": "3.5.2"
  }
 },
 "nbformat": 4,
 "nbformat_minor": 2
}
