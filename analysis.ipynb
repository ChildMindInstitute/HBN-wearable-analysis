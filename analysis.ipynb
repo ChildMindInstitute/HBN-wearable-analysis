{
 "cells": [
  {
   "cell_type": "markdown",
   "metadata": {},
   "source": [
    "# HBN Wearable Analysis\n",
    "\n",
    "Authors:\n",
    "    - Jon Clucas, 2017  <jon.clucas@childmind.org>\n",
    "Copyright ©2017, Apache v2.0 License\n",
    "\n",
    "* [draft tech report](https://docs.google.com/document/d/1BNS3eT7mnrElDcdh-rsFrz-gYIhdAnsSwGCeYuRoFf0)"
   ]
  },
  {
   "cell_type": "markdown",
   "metadata": {},
   "source": [
    "#### imports"
   ]
  },
  {
   "cell_type": "code",
   "execution_count": null,
   "metadata": {},
   "outputs": [],
   "source": [
    "from config import config\n",
    "from utilities import fetch_data\n",
    "import plotly.graph_objs as go\n",
    "from utilities.normalize_acc_data import normalize as norm\n",
    "import numpy as np\n",
    "import pandas as pd\n",
    "import plotly.plotly as py\n",
    "from datetime import timedelta"
   ]
  },
  {
   "cell_type": "markdown",
   "metadata": {},
   "source": [
    "## accelerometry "
   ]
  },
  {
   "cell_type": "code",
   "execution_count": null,
   "metadata": {},
   "outputs": [],
   "source": [
    "acc_GA_black_path = fetch_data.fetch_data(config.rawurls['accelerometer']['GENEActiv Original (black)'])\n",
    "acc_GA_pink_path = fetch_data.fetch_data(config.rawurls['accelerometer']['GENEActiv Original (pink)'])"
   ]
  },
  {
   "cell_type": "code",
   "execution_count": null,
   "metadata": {
    "collapsed": true
   },
   "outputs": [],
   "source": [
    "acc_GA_black = norm(pd.read_csv(acc_GA_black_path))\n",
    "acc_GA_pink = norm(pd.read_csv(acc_GA_pink_path))"
   ]
  },
  {
   "cell_type": "code",
   "execution_count": null,
   "metadata": {},
   "outputs": [],
   "source": [
    "start = min([acc_GA_black['Timestamp'].min(), acc_GA_pink['Timestamp'].min()])\n",
    "stop = max([acc_GA_black['Timestamp'].max(), acc_GA_pink['Timestamp'].max()])"
   ]
  },
  {
   "cell_type": "code",
   "execution_count": null,
   "metadata": {},
   "outputs": [],
   "source": [
    "while start < stop:\n",
    "    middle = start + timedelta(hours=1)\n",
    "    print(acc_GA_black[(acc_GA_black['Timestamp'] >= start) & (acc_GA_black['Timestamp'] <= middle)])\n",
    "    start = middle"
   ]
  },
  {
   "cell_type": "code",
   "execution_count": null,
   "metadata": {
    "collapsed": true
   },
   "outputs": [],
   "source": [
    "trace_acc_GA_black = go.Scattergl(x=acc_GA_black['Timestamp'], y=acc_GA_black['normalized_vector_length'])\n",
    "trace_acc_GA_pink = go.Scattergl(x=acc_GA_pink['Timestamp'], y=acc_GA_pink['normalized_vector_length'])\n",
    "py.iplot([trace_acc_GA_black, trace_acc_GA_pink])"
   ]
  },
  {
   "cell_type": "code",
   "execution_count": null,
   "metadata": {
    "collapsed": true
   },
   "outputs": [],
   "source": [
    "acc_AG_path = fetch_data.fetch_data(config.rawurls['accelerometer']['ActiGraph wGT3X-BT'])"
   ]
  },
  {
   "cell_type": "code",
   "execution_count": null,
   "metadata": {
    "collapsed": true
   },
   "outputs": [],
   "source": [
    "acc_AG = norm(pd.read_csv(acc_AG_path))"
   ]
  },
  {
   "cell_type": "code",
   "execution_count": null,
   "metadata": {
    "collapsed": true
   },
   "outputs": [],
   "source": [
    "trace_acc_AG = go.Scattergl(x=acc_AG['Timestamp'], y=acc_AG['normalized_vector_length'])"
   ]
  },
  {
   "cell_type": "code",
   "execution_count": null,
   "metadata": {
    "collapsed": true
   },
   "outputs": [],
   "source": [
    "acc_AG = pd.read_csv(acc_AG_path)"
   ]
  },
  {
   "cell_type": "code",
   "execution_count": null,
   "metadata": {
    "collapsed": true
   },
   "outputs": [],
   "source": [
    "acc_E4_path = fetch_data.fetch_data(config.rawurls['accelerometer']['Empatica E4'])"
   ]
  },
  {
   "cell_type": "code",
   "execution_count": null,
   "metadata": {
    "collapsed": true
   },
   "outputs": [],
   "source": [
    "acc_E4 = pd.read_csv(acc_E4_path)"
   ]
  },
  {
   "cell_type": "code",
   "execution_count": null,
   "metadata": {
    "collapsed": true
   },
   "outputs": [],
   "source": [
    "acc_WW_path = fetch_data.fetch_data(config.rawurls['accelerometer']['Wavelet Wristband'])"
   ]
  },
  {
   "cell_type": "code",
   "execution_count": null,
   "metadata": {
    "collapsed": true
   },
   "outputs": [],
   "source": [
    "acc_WW = pd.read_csv(acc_WW_path)"
   ]
  },
  {
   "cell_type": "markdown",
   "metadata": {},
   "source": [
    "## photoplethysmography"
   ]
  },
  {
   "cell_type": "code",
   "execution_count": null,
   "metadata": {
    "collapsed": true
   },
   "outputs": [],
   "source": [
    "ppg_E4_path = fetch_data.fetch_data(config.rawurls['photoplethysmograph']['Empatica E4'])"
   ]
  },
  {
   "cell_type": "code",
   "execution_count": null,
   "metadata": {
    "collapsed": true
   },
   "outputs": [],
   "source": [
    "ppg_WW_path = fetch_data.fetch_data(config.rawurls['photoplethysmograph']['Wavelet Wristband'])"
   ]
  },
  {
   "cell_type": "markdown",
   "metadata": {},
   "source": [
    "## electrodermal activity"
   ]
  },
  {
   "cell_type": "code",
   "execution_count": null,
   "metadata": {
    "collapsed": true
   },
   "outputs": [],
   "source": [
    "eda_E4_path = fetch_data.fetch_data(config.rawurls['electrodermal activity']['Empatica E4'])"
   ]
  },
  {
   "cell_type": "markdown",
   "metadata": {},
   "source": [
    "## electrocardiography"
   ]
  },
  {
   "cell_type": "code",
   "execution_count": null,
   "metadata": {
    "collapsed": true
   },
   "outputs": [],
   "source": [
    "ecg_AG_path = fetch_data.fetch_data(config.rawurls['electrocardiography']['ActiGraph wGT3X-BT'])"
   ]
  },
  {
   "cell_type": "code",
   "execution_count": null,
   "metadata": {
    "collapsed": true
   },
   "outputs": [],
   "source": [
    "ecg_E4_path = fetch_data.fetch_data(config.rawurls['electrocardiography']['Empatica E4'])"
   ]
  },
  {
   "cell_type": "markdown",
   "metadata": {},
   "source": [
    "## light"
   ]
  },
  {
   "cell_type": "code",
   "execution_count": null,
   "metadata": {
    "collapsed": true
   },
   "outputs": [],
   "source": [
    "lgt_AG_path = fetch_data.fetch_data(config.rawurls['light']['ActiGraph wGT3X-BT'])"
   ]
  },
  {
   "cell_type": "code",
   "execution_count": null,
   "metadata": {
    "collapsed": true
   },
   "outputs": [],
   "source": [
    "lgt_GA_black_path = fetch_data.fetch_data(config.rawurls['light']['GENEActiv Original (black)'])\n",
    "lgt_GA_pink_path = fetch_data.fetch_data(config.rawurls['light']['GENEActiv Original (pink)'])"
   ]
  },
  {
   "cell_type": "markdown",
   "metadata": {},
   "source": [
    "## temperature"
   ]
  },
  {
   "cell_type": "code",
   "execution_count": null,
   "metadata": {
    "collapsed": true
   },
   "outputs": [],
   "source": [
    "tmp_E4_path = fetch_data.fetch_data(config.rawurls['temperature']['Empatica E4'])"
   ]
  },
  {
   "cell_type": "code",
   "execution_count": null,
   "metadata": {
    "collapsed": true
   },
   "outputs": [],
   "source": [
    "tmp_GA_black_path = fetch_data.fetch_data(config.rawurls['temperature']['GENEActiv Original (black)'])\n",
    "tmp_GA_pink_path = fetch_data.fetch_data(config.rawurls['temperature']['GENEActiv Original (pink)'])"
   ]
  }
 ],
 "metadata": {
  "kernelspec": {
   "display_name": "Python [conda root]",
   "language": "python",
   "name": "conda-root-py"
  },
  "language_info": {
   "codemirror_mode": {
    "name": "ipython",
    "version": 3
   },
   "file_extension": ".py",
   "mimetype": "text/x-python",
   "name": "python",
   "nbconvert_exporter": "python",
   "pygments_lexer": "ipython3",
   "version": "3.5.2"
  }
 },
 "nbformat": 4,
 "nbformat_minor": 2
}
