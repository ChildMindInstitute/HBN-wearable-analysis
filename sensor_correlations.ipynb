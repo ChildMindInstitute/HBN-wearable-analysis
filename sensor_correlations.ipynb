{
 "cells": [
  {
   "cell_type": "markdown",
   "metadata": {},
   "source": [
    "# rolling_correlations.ipynb\n",
    "Functions to examine rolling correlations between device sensor outputs.\n",
    "Author: – Jon Clucas, 2017 jon.clucas@childmind.org\n",
    "© 2017, Child Mind Institute, Apache v2.0 License\n",
    "\n",
    "setup:"
   ]
  },
  {
   "cell_type": "code",
   "execution_count": 4,
   "metadata": {
    "collapsed": true
   },
   "outputs": [],
   "source": [
    "%matplotlib inline\n",
    "from annotate_range import annotation_line\n",
    "from chart_data import write_csv\n",
    "from config import organized_dir, placement_dir\n",
    "from datetime import datetime, timedelta\n",
    "from matplotlib.dates import DateFormatter\n",
    "from plot_normalized_vector_lengths import baseshift_and_renormalize\n",
    "import json, numpy as np, os, pandas as pd, matplotlib.pyplot as plt\n",
    "with open(os.path.join('./line_charts/device_colors.json')) as fp:\n",
    "    color_key = json.load(fp)\n",
    "pd.set_option('mode.use_inf_as_null', True)"
   ]
  },
  {
   "cell_type": "markdown",
   "metadata": {},
   "source": [
    "define functions:"
   ]
  },
  {
   "cell_type": "code",
   "execution_count": 16,
   "metadata": {
    "collapsed": true
   },
   "outputs": [],
   "source": [
    "def linechart(df, plot_label, plot_person):\n",
    "    \"\"\"\n",
    "    Function to build a linechart and export a PNG and an SVG of the image.\n",
    "    \n",
    "    Parameters\n",
    "    ----------\n",
    "    df : pandas dataframe\n",
    "        dataframe to plot\n",
    "        \n",
    "    plot_label : string\n",
    "        plot title\n",
    "        \n",
    "    plot_person : string\n",
    "        wearer (for annotations)\n",
    "        \n",
    "    Returns\n",
    "    -------\n",
    "    None\n",
    "    \n",
    "    Outputs\n",
    "    -------\n",
    "    inline plot\n",
    "    \"\"\"\n",
    "    start = min(df.index.values)\n",
    "    stop = max(df.index.values)\n",
    "    w_log = pd.read_csv(os.path.join(placement_dir, 'wearable_log.csv'),\n",
    "            parse_dates={'start':['start date', 'start time'], 'stop':[\n",
    "            'end date', 'end time']})\n",
    "    w_log.dropna(inplace=True)\n",
    "    w_log['start'] = pd.to_datetime(w_log.start, errors=\"coerce\")\n",
    "    w_log['stop'] = pd.to_datetime(w_log.stop, errors=\"coerce\")\n",
    "    print(\"Plotting...\")\n",
    "    print(plot_label)\n",
    "    svg_out = os.path.join(organized_dir, 'accelerometer', \"_\".join([\n",
    "              'normalized_vector_length', '.'.join(['_'.join(plot_label.split(\n",
    "              ' ')), 'svg'])]))\n",
    "    png_out = ''.join([svg_out.strip('svg'), 'png'])\n",
    "    fig = plt.figure(figsize=(10, 8), dpi=75)\n",
    "    plt.rcParams['agg.path.chunksize'] = 10000\n",
    "    ax = fig.add_subplot(111)\n",
    "    ax.set_ylabel('unit cube normalized vector length')\n",
    "    annotations_a = {}\n",
    "    annotations_b = {}\n",
    "    annotation_y = 0.04\n",
    "    plot_log = w_log.loc[(w_log['wearer'] == plot_person) & (w_log['start'] >= \n",
    "                         start) & (w_log['stop'] <= stop)].copy()\n",
    "    for row in plot_log.itertuples():\n",
    "        if row[4] not in annotations_a:\n",
    "            annotations_a[row[4]] = row[1] if row[1] >= start else start\n",
    "            annotations_b[row[4]] = row[2] if row[2] <= stop else stop\n",
    "    for device in list(plot_df.columns):\n",
    "        plot_line = plot_df[[device]].dropna()\n",
    "        esses.append(pd.Series(plot_line.iloc[:,0], name=device, index=\n",
    "                     plot_line.index))\n",
    "        if \"GENEActiv\" in device:\n",
    "            label = \"GENEActiv\"\n",
    "        elif device == \"Actigraph\":\n",
    "            label = \"ActiGraph\"\n",
    "        else:\n",
    "            label = device\n",
    "        \"\"\"\n",
    "        if device == \"Wavelet\":\n",
    "            ax.plot_date(x=plot_line.index, y=plot_line, color=color_key[\n",
    "                         device], alpha=0.5, label=label, marker=\"o\",\n",
    "                         linestyle=\"None\")\n",
    "        else:\n",
    "        \"\"\"\n",
    "        ax.plot_date(x=plot_line.index, y=plot_line, color=color_key[\n",
    "                         device], alpha=0.5, label=label, marker=\"\", linestyle=\n",
    "                         \"solid\")\n",
    "        ax.legend(loc='best', fancybox=True, framealpha=0.5)\n",
    "    for annotation in annotations_a:\n",
    "        try:\n",
    "            annotation_line(ax, annotations_a[annotation], annotations_b[\n",
    "                            annotation], annotation, annotation_y)\n",
    "            annotation_y += 0.08\n",
    "        except:\n",
    "            print(annotation)\n",
    "    ax.set_ylim([0, 1])\n",
    "    ax.xaxis.set_major_formatter(DateFormatter('%m-%d %H:%M'))\n",
    "    plt.suptitle(plot_label)\n",
    "    plt.xticks(rotation=65)\n",
    "    plt.show()\n",
    "    \n",
    "def df_two_devices(devices, sensor, start, stop):\n",
    "    \"\"\"\n",
    "    Function to calculate rolling correlations between two sensor data streams.\n",
    "    \n",
    "    Parameters\n",
    "    ----------\n",
    "    devices : list of strings (len 2)\n",
    "        each string is the name of one of the two devices to compare\n",
    "        \n",
    "    sensor : string\n",
    "        the sensor to compare\n",
    "        \n",
    "    start : datetime\n",
    "        beginning of time to compare\n",
    "        \n",
    "    stop : datetime\n",
    "        end of time to compare\n",
    "        \n",
    "    Returns\n",
    "    -------\n",
    "    df : pandas dataframe\n",
    "        merged dataframe with a column per device\n",
    "    \"\"\"\n",
    "    if sensor == 'accelerometer':\n",
    "        suffix = '_normalized_unit.csv'\n",
    "    else:\n",
    "        suffix = '.csv'\n",
    "    s0 = pd.read_csv(os.path.join(organized_dir, sensor, ''.join([devices[0],\n",
    "         suffix])), usecols=['Timestamp', 'normalized_vector_length'],\n",
    "         parse_dates=['Timestamp'], infer_datetime_format=True)\n",
    "    s0 = s0.loc[(s0['Timestamp'] >= start) & (s0['Timestamp'] <= stop)].copy()\n",
    "    s1 = pd.read_csv(os.path.join(organized_dir, sensor, ''.join([devices[1],\n",
    "         suffix])), usecols=['Timestamp', 'normalized_vector_length'],\n",
    "         parse_dates=['Timestamp'], infer_datetime_format=True)\n",
    "    s1 = s1.loc[(s1['Timestamp'] >= start) & (s1['Timestamp'] <= stop)].copy()\n",
    "    # m0, m1 = only_matching_ts_points(s0, s1, 'second')\n",
    "    s0 = baseshift_and_renormalize(s0)\n",
    "    s1 = baseshift_and_renormalize(s1)\n",
    "    s1[['Timestamp']] = s1.Timestamp.apply(lambda x: x - timedelta(microseconds\n",
    "                        =1000))\n",
    "    s0.set_index('Timestamp', inplace=True)\n",
    "    s1.set_index('Timestamp', inplace=True)\n",
    "    df = s0.merge(s1, left_index=True, right_index=True, suffixes=(''.join([\n",
    "         '_', devices[0]]), ''.join(['_', devices[1]])))\n",
    "    return(df)"
   ]
  },
  {
   "cell_type": "markdown",
   "metadata": {},
   "source": []
  },
  {
   "cell_type": "code",
   "execution_count": 12,
   "metadata": {
    "collapsed": false
   },
   "outputs": [],
   "source": [
    "df = df_two_devices(['GENEActiv_pink', 'Actigraph'], 'accelerometer',  datetime(2017, 4, 6, 15, 45), datetime(2017, 4,\n",
    "     7, 14, 8))"
   ]
  },
  {
   "cell_type": "code",
   "execution_count": 13,
   "metadata": {
    "collapsed": false
   },
   "outputs": [
    {
     "name": "stdout",
     "output_type": "stream",
     "text": [
      "                                         normalized_vector_length_GENEActiv_pink  \\\n",
      "normalized_vector_length_GENEActiv_pink                                 1.000000   \n",
      "normalized_vector_length_Actigraph                                      0.253536   \n",
      "\n",
      "                                         normalized_vector_length_Actigraph  \n",
      "normalized_vector_length_GENEActiv_pink                            0.253536  \n",
      "normalized_vector_length_Actigraph                                 1.000000  \n",
      "                                         normalized_vector_length_GENEActiv_pink  \\\n",
      "normalized_vector_length_GENEActiv_pink                                 1.000000   \n",
      "normalized_vector_length_Actigraph                                     -0.122574   \n",
      "\n",
      "                                         normalized_vector_length_Actigraph  \n",
      "normalized_vector_length_GENEActiv_pink                           -0.122574  \n",
      "normalized_vector_length_Actigraph                                 1.000000  \n",
      "                                         normalized_vector_length_GENEActiv_pink  \\\n",
      "normalized_vector_length_GENEActiv_pink                                 1.000000   \n",
      "normalized_vector_length_Actigraph                                     -0.148899   \n",
      "\n",
      "                                         normalized_vector_length_Actigraph  \n",
      "normalized_vector_length_GENEActiv_pink                           -0.148899  \n",
      "normalized_vector_length_Actigraph                                 1.000000  \n"
     ]
    }
   ],
   "source": [
    "pdcorr = df.corr(method='pearson')\n",
    "print(pdcorr)\n",
    "\n",
    "pdcorr = df.corr(method='kendall')\n",
    "print(pdcorr)\n",
    "\n",
    "pdcorr = df.corr(method='spearman')\n",
    "print(pdcorr)"
   ]
  },
  {
   "cell_type": "code",
   "execution_count": 35,
   "metadata": {
    "collapsed": false
   },
   "outputs": [
    {
     "name": "stdout",
     "output_type": "stream",
     "text": [
      "                                         normalized_vector_length_GENEActiv_pink  \\\n",
      "normalized_vector_length_GENEActiv_pink                                 1.000000   \n",
      "normalized_vector_length_Actigraph                                      0.040786   \n",
      "\n",
      "                                         normalized_vector_length_Actigraph  \n",
      "normalized_vector_length_GENEActiv_pink                            0.040786  \n",
      "normalized_vector_length_Actigraph                                 1.000000  \n"
     ]
    }
   ],
   "source": [
    "start = datetime(2017, 4, 7, 7, 16)\n",
    "stop = start + timedelta(seconds=30)\n",
    "sliced_df = df.loc[(df.index >= start) & (df.index <= stop)].copy()\n",
    "print(sliced_df.corr(method='pearson'))"
   ]
  },
  {
   "cell_type": "code",
   "execution_count": 17,
   "metadata": {
    "collapsed": false
   },
   "outputs": [
    {
     "name": "stdout",
     "output_type": "stream",
     "text": [
      "Plotting...\n",
      "ActiGraph vs GENEActiv\n"
     ]
    },
    {
     "ename": "NameError",
     "evalue": "name 'plot_df' is not defined",
     "output_type": "error",
     "traceback": [
      "\u001b[0;31m---------------------------------------------------------------------------\u001b[0m",
      "\u001b[0;31mNameError\u001b[0m                                 Traceback (most recent call last)",
      "\u001b[0;32m<ipython-input-17-83054d2be968>\u001b[0m in \u001b[0;36m<module>\u001b[0;34m()\u001b[0m\n\u001b[0;32m----> 1\u001b[0;31m \u001b[0mlinechart\u001b[0m\u001b[0;34m(\u001b[0m\u001b[0mdf\u001b[0m\u001b[0;34m,\u001b[0m \u001b[0;34m\"ActiGraph vs GENEActiv\"\u001b[0m\u001b[0;34m,\u001b[0m \u001b[0;34m\"Arno\"\u001b[0m\u001b[0;34m)\u001b[0m\u001b[0;34m\u001b[0m\u001b[0m\n\u001b[0m",
      "\u001b[0;32m<ipython-input-16-0963297446e6>\u001b[0m in \u001b[0;36mlinechart\u001b[0;34m(df, plot_label, plot_person)\u001b[0m\n\u001b[1;32m     49\u001b[0m             \u001b[0mannotations_a\u001b[0m\u001b[0;34m[\u001b[0m\u001b[0mrow\u001b[0m\u001b[0;34m[\u001b[0m\u001b[0;36m4\u001b[0m\u001b[0;34m]\u001b[0m\u001b[0;34m]\u001b[0m \u001b[0;34m=\u001b[0m \u001b[0mrow\u001b[0m\u001b[0;34m[\u001b[0m\u001b[0;36m1\u001b[0m\u001b[0;34m]\u001b[0m \u001b[0;32mif\u001b[0m \u001b[0mrow\u001b[0m\u001b[0;34m[\u001b[0m\u001b[0;36m1\u001b[0m\u001b[0;34m]\u001b[0m \u001b[0;34m>=\u001b[0m \u001b[0mstart\u001b[0m \u001b[0;32melse\u001b[0m \u001b[0mstart\u001b[0m\u001b[0;34m\u001b[0m\u001b[0m\n\u001b[1;32m     50\u001b[0m             \u001b[0mannotations_b\u001b[0m\u001b[0;34m[\u001b[0m\u001b[0mrow\u001b[0m\u001b[0;34m[\u001b[0m\u001b[0;36m4\u001b[0m\u001b[0;34m]\u001b[0m\u001b[0;34m]\u001b[0m \u001b[0;34m=\u001b[0m \u001b[0mrow\u001b[0m\u001b[0;34m[\u001b[0m\u001b[0;36m2\u001b[0m\u001b[0;34m]\u001b[0m \u001b[0;32mif\u001b[0m \u001b[0mrow\u001b[0m\u001b[0;34m[\u001b[0m\u001b[0;36m2\u001b[0m\u001b[0;34m]\u001b[0m \u001b[0;34m<=\u001b[0m \u001b[0mstop\u001b[0m \u001b[0;32melse\u001b[0m \u001b[0mstop\u001b[0m\u001b[0;34m\u001b[0m\u001b[0m\n\u001b[0;32m---> 51\u001b[0;31m     \u001b[0;32mfor\u001b[0m \u001b[0mdevice\u001b[0m \u001b[0;32min\u001b[0m \u001b[0mlist\u001b[0m\u001b[0;34m(\u001b[0m\u001b[0mplot_df\u001b[0m\u001b[0;34m.\u001b[0m\u001b[0mcolumns\u001b[0m\u001b[0;34m)\u001b[0m\u001b[0;34m:\u001b[0m\u001b[0;34m\u001b[0m\u001b[0m\n\u001b[0m\u001b[1;32m     52\u001b[0m         \u001b[0mplot_line\u001b[0m \u001b[0;34m=\u001b[0m \u001b[0mplot_df\u001b[0m\u001b[0;34m[\u001b[0m\u001b[0;34m[\u001b[0m\u001b[0mdevice\u001b[0m\u001b[0;34m]\u001b[0m\u001b[0;34m]\u001b[0m\u001b[0;34m.\u001b[0m\u001b[0mdropna\u001b[0m\u001b[0;34m(\u001b[0m\u001b[0;34m)\u001b[0m\u001b[0;34m\u001b[0m\u001b[0m\n\u001b[1;32m     53\u001b[0m         esses.append(pd.Series(plot_line.iloc[:,0], name=device, index=\n",
      "\u001b[0;31mNameError\u001b[0m: name 'plot_df' is not defined"
     ]
    },
    {
     "data": {
      "image/png": "[encoded data removed]",
      "text/plain": [
       "<matplotlib.figure.Figure at 0x117ca56d8>"
      ]
     },
     "metadata": {},
     "output_type": "display_data"
    }
   ],
   "source": [
    "linechart(df, \"ActiGraph vs GENEActiv\", \"Arno\")"
   ]
  },
  {
   "cell_type": "code",
   "execution_count": null,
   "metadata": {
    "collapsed": false
   },
   "outputs": [],
   "source": [
    "rcorr = df.rolling(window=180, center=True).corr()\n",
    "print(rcorr.dropna().mean())"
   ]
  },
  {
   "cell_type": "code",
   "execution_count": null,
   "metadata": {
    "collapsed": false
   },
   "outputs": [],
   "source": [
    "no_outliers = df.copy()\n",
    "for column in list(no_outliers.columns):\n",
    "    print(no_outliers[[column]])\n",
    "    # no_outliers[[column]] = no_outliers[np.abs(no_outliers[[column]] - no_outliers[[column]].mean()) <= (3 *\n",
    "    #                        no_outliers[[column]].std())]"
   ]
  },
  {
   "cell_type": "code",
   "execution_count": null,
   "metadata": {
    "collapsed": true
   },
   "outputs": [],
   "source": []
  }
 ],
 "metadata": {
  "anaconda-cloud": {},
  "kernelspec": {
   "display_name": "Python [default]",
   "language": "python",
   "name": "python3"
  },
  "language_info": {
   "codemirror_mode": {
    "name": "ipython",
    "version": 3
   },
   "file_extension": ".py",
   "mimetype": "text/x-python",
   "name": "python",
   "nbconvert_exporter": "python",
   "pygments_lexer": "ipython3",
   "version": "3.5.2"
  }
 },
 "nbformat": 4,
 "nbformat_minor": 1
}
