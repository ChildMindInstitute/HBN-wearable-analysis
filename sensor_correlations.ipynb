{
 "cells": [
  {
   "cell_type": "markdown",
   "metadata": {},
   "source": [
    "# sensor_correlations.ipynb\n",
    "Functions to examine rolling correlations between device sensor outputs.\n",
    "Author: – Jon Clucas, 2017 jon.clucas@childmind.org\n",
    "© 2017, Child Mind Institute, Apache v2.0 License\n",
    "\n",
    "setup:"
   ]
  },
  {
   "cell_type": "code",
   "execution_count": null,
   "metadata": {
    "collapsed": false
   },
   "outputs": [],
   "source": [
    "%matplotlib inline\n",
    "from annotate_range import annotation_line\n",
    "from astropy.stats import median_absolute_deviation as mad\n",
    "from chart_data import write_csv\n",
    "from config import organized_dir, placement_dir\n",
    "from datetime import datetime, timedelta\n",
    "from matplotlib.dates import DateFormatter\n",
    "from plot_normalized_vector_lengths import baseshift_and_renormalize\n",
    "import json, numpy as np, os, pandas as pd, matplotlib.pyplot as plt\n",
    "with open(os.path.join('./line_charts/device_colors.json')) as fp:\n",
    "    color_key = json.load(fp)\n",
    "pd.set_option('mode.use_inf_as_null', True)"
   ]
  },
  {
   "cell_type": "markdown",
   "metadata": {},
   "source": [
    "define functions:"
   ]
  },
  {
   "cell_type": "code",
   "execution_count": null,
   "metadata": {
    "collapsed": true
   },
   "outputs": [],
   "source": [
    "def bland_altman_plot(data1, data2, *args, **kwargs):\n",
    "    data1     = np.asarray(data1)\n",
    "    data2     = np.asarray(data2)\n",
    "    mean      = np.mean([data1, data2], axis=0)\n",
    "    diff      = data1 - data2                   # Difference between data1 and data2\n",
    "    md        = np.mean(diff)                   # Mean of the difference\n",
    "    sd        = np.std(diff, axis=0)            # Standard deviation of the difference\n",
    "\n",
    "    plt.scatter(mean, diff, *args, **kwargs)\n",
    "    plt.axhline(md,           color='gray', linestyle='--')\n",
    "    plt.axhline(md + 1.96*sd, color='gray', linestyle='--')\n",
    "    plt.axhline(md - 1.96*sd, color='gray', linestyle='--')\n",
    "\n",
    "def linechart(df, plot_label, plot_person, line=True):\n",
    "    \"\"\"\n",
    "    Function to build a linechart and export a PNG and an SVG of the image.\n",
    "    \n",
    "    Parameters\n",
    "    ----------\n",
    "    df : pandas dataframe\n",
    "        dataframe to plot\n",
    "        \n",
    "    plot_label : string\n",
    "        plot title\n",
    "        \n",
    "    plot_person : string\n",
    "        wearer (for annotations)\n",
    "        \n",
    "    Returns\n",
    "    -------\n",
    "    None\n",
    "    \n",
    "    Outputs\n",
    "    -------\n",
    "    inline plot\n",
    "    \"\"\"\n",
    "    start = min(df.index.values)\n",
    "    stop = max(df.index.values)\n",
    "    w_log = pd.read_csv(os.path.join(placement_dir, 'wearable_log.csv'),\n",
    "            parse_dates={'start':['start date', 'start time'], 'stop':[\n",
    "            'end date', 'end time']})\n",
    "    w_log.dropna(inplace=True)\n",
    "    w_log['start'] = pd.to_datetime(w_log.start, errors=\"coerce\")\n",
    "    w_log['stop'] = pd.to_datetime(w_log.stop, errors=\"coerce\")\n",
    "    print(\"Plotting...\")\n",
    "    print(plot_label)\n",
    "    svg_out = os.path.join(organized_dir, 'accelerometer', \"_\".join([\n",
    "              'normalized_vector_length', '.'.join(['_'.join(plot_label.split(\n",
    "              ' ')), 'svg'])]))\n",
    "    png_out = ''.join([svg_out.strip('svg'), 'png'])\n",
    "    fig = plt.figure(figsize=(10, 8), dpi=75)\n",
    "    plt.rcParams['agg.path.chunksize'] = 10000\n",
    "    ax = fig.add_subplot(111)\n",
    "    ax.set_ylabel('unit cube normalized vector length')\n",
    "    annotations_a = {}\n",
    "    annotations_b = {}\n",
    "    annotation_y = 0.04\n",
    "    plot_log = w_log.loc[(w_log['wearer'] == plot_person) & (w_log['start'] >= \n",
    "                         start) & (w_log['stop'] <= stop)].copy()\n",
    "    for row in plot_log.itertuples():\n",
    "        if row[4] not in annotations_a:\n",
    "            annotations_a[row[4]] = row[1] if row[1] >= start else start\n",
    "            annotations_b[row[4]] = row[2] if row[2] <= stop else stop\n",
    "    esses = []\n",
    "    mad_values = []\n",
    "    for device in list(df.columns):\n",
    "        if device.startswith('normalized'):\n",
    "            d2 = device[25:]\n",
    "        else:\n",
    "            d2 = device\n",
    "        plot_line = df[[device]].dropna()\n",
    "        print(mad(plot_line))\n",
    "        mad_values.append(mad(plot_line))\n",
    "        esses.append(pd.Series(plot_line.iloc[:,0], name=d2, index=\n",
    "                     plot_line.index))\n",
    "        if \"GENEActiv\" in device:\n",
    "            label = \"GENEActiv\"\n",
    "        elif device == \"Actigraph\":\n",
    "            label = \"ActiGraph\"\n",
    "        else:\n",
    "            label = d2\n",
    "        \"\"\"\n",
    "        if device == \"Wavelet\":\n",
    "            ax.plot_date(x=plot_line.index, y=plot_line, color=color_key[\n",
    "                         device], alpha=0.5, label=label, marker=\"o\",\n",
    "                         linestyle=\"None\")\n",
    "        else:\n",
    "        \"\"\"\n",
    "        if line:\n",
    "            ax.plot_date(x=plot_line.index, y=plot_line, color=color_key[\n",
    "                             d2], alpha=0.5, label=label, marker=\"\", linestyle=\n",
    "                             \"solid\")\n",
    "        else:\n",
    "            ax.plot_date(x=plot_line.index, y=plot_line, color=color_key[\n",
    "                             d2], alpha=0.5, label=label, marker=\"o\", linestyle=\n",
    "                             \"None\")\n",
    "        ax.legend(loc='best', fancybox=True, framealpha=0.5)\n",
    "    for annotation in annotations_a:\n",
    "        try:\n",
    "            annotation_line(ax, annotations_a[annotation], annotations_b[\n",
    "                            annotation], annotation, annotation_y)\n",
    "            annotation_y += 0.08\n",
    "        except:\n",
    "            print(annotation)\n",
    "    ylim = max(mad_values)\n",
    "    if(ylim == 0):\n",
    "        ax.set_ylim([0, 1])\n",
    "    else:\n",
    "        ax.set_ylim([0, 5 * ylim])\n",
    "    ax.xaxis.set_major_formatter(DateFormatter('%H:%M:%S'))\n",
    "    plt.suptitle(plot_label)\n",
    "    plt.xticks(rotation=65)\n",
    "    plt.show()\n",
    "    \n",
    "def df_two_devices(devices, sensor, start, stop):\n",
    "    \"\"\"\n",
    "    Function to calculate rolling correlations between two sensor data streams.\n",
    "    \n",
    "    Parameters\n",
    "    ----------\n",
    "    devices : list of strings (len 2)\n",
    "        each string is the name of one of the two devices to compare\n",
    "        \n",
    "    sensor : string\n",
    "        the sensor to compare\n",
    "        \n",
    "    start : datetime\n",
    "        beginning of time to compare\n",
    "        \n",
    "    stop : datetime\n",
    "        end of time to compare\n",
    "        \n",
    "    Returns\n",
    "    -------\n",
    "    df : pandas dataframe\n",
    "        merged dataframe with a column per device\n",
    "    \"\"\"\n",
    "    if sensor == 'accelerometer':\n",
    "        suffix = '_normalized_unit.csv'\n",
    "    else:\n",
    "        suffix = '.csv'\n",
    "    s0 = pd.read_csv(os.path.join(organized_dir, sensor, ''.join([devices[0],\n",
    "         suffix])), usecols=['Timestamp', 'normalized_vector_length'],\n",
    "         parse_dates=['Timestamp'], infer_datetime_format=True)\n",
    "    s0 = s0.loc[(s0['Timestamp'] >= start) & (s0['Timestamp'] <= stop)].copy()\n",
    "    s1 = pd.read_csv(os.path.join(organized_dir, sensor, ''.join([devices[1],\n",
    "         suffix])), usecols=['Timestamp', 'normalized_vector_length'],\n",
    "         parse_dates=['Timestamp'], infer_datetime_format=True)\n",
    "    s1 = s1.loc[(s1['Timestamp'] >= start) & (s1['Timestamp'] <= stop)].copy()\n",
    "    # m0, m1 = only_matching_ts_points(s0, s1, 'second')\n",
    "    s0 = baseshift_and_renormalize(s0)\n",
    "    s1 = baseshift_and_renormalize(s1)\n",
    "    s1[['Timestamp']] = s1.Timestamp.apply(lambda x: x - timedelta(microseconds\n",
    "                        =1000))\n",
    "    s0.set_index('Timestamp', inplace=True)\n",
    "    s1.set_index('Timestamp', inplace=True)\n",
    "    df = s0.merge(s1, left_index=True, right_index=True, suffixes=(''.join([\n",
    "         '_', devices[0]]), ''.join(['_', devices[1]])))\n",
    "    return(df)"
   ]
  },
  {
   "cell_type": "code",
   "execution_count": null,
   "metadata": {
    "collapsed": false
   },
   "outputs": [],
   "source": [
    "df = df_two_devices(['GENEActiv_pink', 'Actigraph'], 'accelerometer',  datetime(2017, 4, 6, 15, 45), datetime(2017, 4,\n",
    "     7, 14, 8))"
   ]
  },
  {
   "cell_type": "code",
   "execution_count": null,
   "metadata": {
    "collapsed": false
   },
   "outputs": [],
   "source": [
    "linechart(df, \"ActiGraph vs GENEActiv, 1 day\", \"Arno\")"
   ]
  },
  {
   "cell_type": "code",
   "execution_count": null,
   "metadata": {
    "collapsed": false
   },
   "outputs": [],
   "source": [
    "start = datetime(2017, 4, 6, 15, 45)\n",
    "# stop = datetime(2017, 4, 7, 14, 8)\n",
    "stop = datetime(2017, 4, 6, 16, 45)\n",
    "while start < stop:\n",
    "    new_start = start + timedelta(seconds=3)\n",
    "    plot_df = df.loc[(df.index >= start) & (df.index <= new_start)].copy()\n",
    "    label = '–'.join([start.strftime('%H:%M:%S'), new_start.strftime('%H:%M:%S')])\n",
    "    linechart(plot_df, label, \"Arno\", False)\n",
    "    start = new_start"
   ]
  },
  {
   "cell_type": "code",
   "execution_count": null,
   "metadata": {
    "collapsed": false
   },
   "outputs": [],
   "source": [
    "bland_altman_plot(df.normalized_vector_length_GENEActiv_pink, df.normalized_vector_length_Actigraph)"
   ]
  },
  {
   "cell_type": "code",
   "execution_count": null,
   "metadata": {
    "collapsed": false
   },
   "outputs": [],
   "source": [
    "bland_altman_plot(df.normalized_vector_length_GENEActiv_pink, df.normalized_vector_length_Actigraph, ylim=0.2)"
   ]
  },
  {
   "cell_type": "code",
   "execution_count": null,
   "metadata": {
    "collapsed": false
   },
   "outputs": [],
   "source": [
    "pdcorr = df.corr(method='pearson')\n",
    "print(pdcorr)"
   ]
  },
  {
   "cell_type": "code",
   "execution_count": null,
   "metadata": {
    "collapsed": false
   },
   "outputs": [],
   "source": [
    "start = datetime(2017, 4, 7, 7, 16)\n",
    "stop = start + timedelta(seconds=30)\n",
    "sliced_df = df.loc[(df.index >= start) & (df.index <= stop)].copy()\n",
    "print(sliced_df.corr(method='pearson'))"
   ]
  },
  {
   "cell_type": "code",
   "execution_count": null,
   "metadata": {
    "collapsed": false
   },
   "outputs": [],
   "source": [
    "linechart(df, \"ActiGraph vs GENEActiv\", \"Arno\")"
   ]
  },
  {
   "cell_type": "code",
   "execution_count": null,
   "metadata": {
    "collapsed": false
   },
   "outputs": [],
   "source": [
    "rcorr = df.rolling(window=180, center=True).corr()\n",
    "print(rcorr.dropna().mean())"
   ]
  },
  {
   "cell_type": "code",
   "execution_count": null,
   "metadata": {
    "collapsed": false
   },
   "outputs": [],
   "source": [
    "no_outliers = df.copy()\n",
    "print(len(no_outliers))\n",
    "for column in list(no_outliers.columns):\n",
    "    truths = (np.abs(no_outliers[[column]] - no_outliers[[column]].mean()) <= (3 * no_outliers[[column]].std()))\n",
    "    no_outliers[[column]] = no_outliers[[column]][truths]\n",
    "no_outliers.dropna(how='any', inplace=True)\n",
    "print(len(no_outliers))"
   ]
  },
  {
   "cell_type": "code",
   "execution_count": null,
   "metadata": {
    "collapsed": false
   },
   "outputs": [],
   "source": [
    "pdcorr = no_outliers.corr(method='pearson')\n",
    "print(pdcorr)"
   ]
  }
 ],
 "metadata": {
  "anaconda-cloud": {},
  "kernelspec": {
   "display_name": "Python [default]",
   "language": "python",
   "name": "python3"
  },
  "language_info": {
   "codemirror_mode": {
    "name": "ipython",
    "version": 3
   },
   "file_extension": ".py",
   "mimetype": "text/x-python",
   "name": "python",
   "nbconvert_exporter": "python",
   "pygments_lexer": "ipython3",
   "version": "3.5.2"
  }
 },
 "nbformat": 4,
 "nbformat_minor": 1
}
